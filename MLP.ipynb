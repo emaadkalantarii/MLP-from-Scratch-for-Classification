{
 "cells": [
  {
   "cell_type": "code",
   "execution_count": 1,
   "id": "a37bffb2",
   "metadata": {},
   "outputs": [],
   "source": [
    "#import Libraries\n",
    "import numpy as np\n",
    "import pandas as pd\n",
    "import matplotlib.pyplot as plt\n",
    "import seaborn as sns"
   ]
  },
  {
   "cell_type": "code",
   "execution_count": 2,
   "id": "bdce44b3",
   "metadata": {},
   "outputs": [],
   "source": [
    "# Read data\n",
    "train_data = pd.read_excel('DataSets/THA2train.xlsx')\n",
    "validate_data = pd.read_excel('DataSets/THA2validate.xlsx')"
   ]
  },
  {
   "cell_type": "code",
   "execution_count": 3,
   "id": "6707efeb",
   "metadata": {},
   "outputs": [],
   "source": [
    "# data separation features and labels\n",
    "X_train = train_data.iloc[:, :-1].values\n",
    "y_train = pd.get_dummies(train_data.iloc[:, -1]).values"
   ]
  },
  {
   "cell_type": "code",
   "execution_count": 4,
   "id": "9ad23f43",
   "metadata": {},
   "outputs": [],
   "source": [
    "# data separation features and labels\n",
    "X_validate = validate_data.iloc[:, :-1].values\n",
    "y_validate = pd.get_dummies(validate_data.iloc[:, -1]).values"
   ]
  },
  {
   "cell_type": "code",
   "execution_count": 5,
   "id": "c50b68b0",
   "metadata": {},
   "outputs": [],
   "source": [
    "#this function is for sigmoid by handeling overflow\n",
    "def sigmoid(z):\n",
    "    return np.where(z >= 0, \n",
    "                    1 / (1 + np.exp(-z)), \n",
    "                    np.exp(z) / (1 + np.exp(z)))"
   ]
  },
  {
   "cell_type": "code",
   "execution_count": 6,
   "id": "15581f7c",
   "metadata": {},
   "outputs": [],
   "source": [
    "#derivative of sigmoid\n",
    "def sigmoid_derivative(a):\n",
    "    return a * (1 - a)"
   ]
  },
  {
   "cell_type": "code",
   "execution_count": 7,
   "id": "e47df043",
   "metadata": {},
   "outputs": [],
   "source": [
    "#softmax function\n",
    "def softmax(z):\n",
    "    e_z = np.exp(z - np.max(z, axis=1, keepdims=True))\n",
    "    return e_z / np.sum(e_z, axis=1, keepdims=True)"
   ]
  },
  {
   "cell_type": "code",
   "execution_count": 8,
   "id": "be131f98",
   "metadata": {},
   "outputs": [],
   "source": [
    "#the MLP class\n",
    "class MLP:\n",
    "    def __init__(self, input_size, hidden_size, output_size):\n",
    "        self.W1 = np.random.randn(input_size, hidden_size) * np.sqrt(2 / (input_size + hidden_size))\n",
    "        self.b1 = np.zeros((1, hidden_size))\n",
    "        self.W2 = np.random.randn(hidden_size, output_size) * np.sqrt(2 / (hidden_size + output_size))\n",
    "        self.b2 = np.zeros((1, output_size))\n",
    "\n",
    "    def forward(self, X):\n",
    "        self.z1 = np.dot(X, self.W1) + self.b1\n",
    "        self.a1 = sigmoid(self.z1)\n",
    "        self.z2 = np.dot(self.a1, self.W2) + self.b2\n",
    "        self.a2 = softmax(self.z2)\n",
    "        return self.a2\n",
    "\n",
    "    def backward(self, X, y):\n",
    "        output_error = self.a2 - y\n",
    "        dW2 = np.dot(self.a1.T, output_error)\n",
    "        db2 = np.sum(output_error, axis=0, keepdims=True)\n",
    "        \n",
    "        hidden_error = np.dot(output_error, self.W2.T) * sigmoid_derivative(self.a1)\n",
    "        dW1 = np.dot(X.T, hidden_error)\n",
    "        db1 = np.sum(hidden_error, axis=0, keepdims=True)\n",
    "        \n",
    "        return dW1, db1, dW2, db2\n",
    "\n",
    "    def update_weights(self, dW1, db1, dW2, db2, learning_rate):\n",
    "        self.W1 -= learning_rate * dW1\n",
    "        self.b1 -= learning_rate * db1\n",
    "        self.W2 -= learning_rate * dW2\n",
    "        self.b2 -= learning_rate * db2\n",
    "\n",
    "    def compute_loss(self, y_true, y_pred):\n",
    "        m = y_true.shape[0]\n",
    "        loss = -np.sum(y_true * np.log(y_pred + 1e-8)) / m  \n",
    "        return loss\n",
    "\n"
   ]
  },
  {
   "cell_type": "code",
   "execution_count": 9,
   "id": "73c5c4c3",
   "metadata": {},
   "outputs": [],
   "source": [
    "# Normalize the data\n",
    "X_train_norm = (X_train - np.mean(X_train, axis=0)) / np.std(X_train, axis=0)\n",
    "X_validate_norm = (X_validate - np.mean(X_validate, axis=0)) / np.std(X_validate, axis=0)\n"
   ]
  },
  {
   "cell_type": "code",
   "execution_count": 10,
   "id": "d8e6fbe9",
   "metadata": {},
   "outputs": [],
   "source": [
    "# Create the MLP model\n",
    "mlp = MLP(input_size=2, hidden_size=10, output_size=2)\n"
   ]
  },
  {
   "cell_type": "code",
   "execution_count": 11,
   "id": "cf388110",
   "metadata": {},
   "outputs": [],
   "source": [
    "# Training hyperparameters\n",
    "epochs = 2000\n",
    "learning_rate = 0.01\n",
    "batch_size = 32\n",
    "\n",
    "# Lists to store loss for plotting\n",
    "training_losses = []\n",
    "validation_losses = []"
   ]
  },
  {
   "cell_type": "code",
   "execution_count": 12,
   "id": "43426082",
   "metadata": {},
   "outputs": [
    {
     "name": "stdout",
     "output_type": "stream",
     "text": [
      "Epoch 0, Training Loss: 0.6965, Validation Loss: 0.6962\n",
      "Epoch 100, Training Loss: 0.1936, Validation Loss: 0.2213\n",
      "Epoch 200, Training Loss: 0.1407, Validation Loss: 0.1369\n",
      "Epoch 300, Training Loss: 0.1307, Validation Loss: 0.1364\n",
      "Epoch 400, Training Loss: 0.1223, Validation Loss: 0.1256\n",
      "Epoch 500, Training Loss: 0.1166, Validation Loss: 0.1224\n",
      "Epoch 600, Training Loss: 0.1123, Validation Loss: 0.1203\n",
      "Epoch 700, Training Loss: 0.1091, Validation Loss: 0.1219\n",
      "Epoch 800, Training Loss: 0.1071, Validation Loss: 0.1214\n",
      "Epoch 900, Training Loss: 0.1054, Validation Loss: 0.1228\n",
      "Epoch 1000, Training Loss: 0.1036, Validation Loss: 0.1254\n",
      "Epoch 1100, Training Loss: 0.1023, Validation Loss: 0.1266\n",
      "Epoch 1200, Training Loss: 0.1009, Validation Loss: 0.1286\n",
      "Epoch 1300, Training Loss: 0.0996, Validation Loss: 0.1302\n",
      "Epoch 1400, Training Loss: 0.0982, Validation Loss: 0.1327\n",
      "Epoch 1500, Training Loss: 0.0972, Validation Loss: 0.1337\n",
      "Epoch 1600, Training Loss: 0.0957, Validation Loss: 0.1366\n",
      "Epoch 1700, Training Loss: 0.0945, Validation Loss: 0.1389\n",
      "Epoch 1800, Training Loss: 0.0934, Validation Loss: 0.1411\n",
      "Epoch 1900, Training Loss: 0.0924, Validation Loss: 0.1428\n"
     ]
    }
   ],
   "source": [
    "# Training loop\n",
    "for epoch in range(epochs):\n",
    "    indices = np.arange(X_train_norm.shape[0])\n",
    "    np.random.shuffle(indices)\n",
    "    X_train_norm_shuffled = X_train_norm[indices]\n",
    "    y_train_shuffled = y_train[indices]\n",
    "\n",
    "\n",
    "    for start_idx in range(0, X_train_norm.shape[0], batch_size):\n",
    "        end_idx = min(start_idx + batch_size, X_train_norm.shape[0])\n",
    "        X_batch = X_train_norm_shuffled[start_idx:end_idx]\n",
    "        y_batch = y_train_shuffled[start_idx:end_idx]\n",
    "\n",
    "        predictions = mlp.forward(X_batch)\n",
    "        dW1, db1, dW2, db2 = mlp.backward(X_batch, y_batch)\n",
    "\n",
    "        mlp.update_weights(dW1, db1, dW2, db2, learning_rate)\n",
    "\n",
    "    train_loss = mlp.compute_loss(y_train, mlp.forward(X_train_norm))\n",
    "    validation_loss = mlp.compute_loss(y_validate, mlp.forward(X_validate_norm))\n",
    "    training_losses.append(train_loss)\n",
    "    validation_losses.append(validation_loss)\n",
    "\n",
    "    if epoch % 100 == 0:\n",
    "        print(f\"Epoch {epoch}, Training Loss: {train_loss:.4f}, Validation Loss: {validation_loss:.4f}\")\n",
    "\n"
   ]
  },
  {
   "cell_type": "code",
   "execution_count": 13,
   "id": "78ee7331",
   "metadata": {},
   "outputs": [],
   "source": [
    "#calculate accuracy\n",
    "def calculate_accuracy(true_labels, predicted_labels):\n",
    "    correct_predictions = np.sum(true_labels == predicted_labels)\n",
    "    accuracy = correct_predictions / true_labels.shape[0]\n",
    "    return accuracy"
   ]
  },
  {
   "cell_type": "code",
   "execution_count": 14,
   "id": "04fddf1d",
   "metadata": {},
   "outputs": [],
   "source": [
    "#confusion matrix \n",
    "def create_confusion_matrix(true_labels, predicted_labels, num_classes):\n",
    "    # Initialize the confusion matrix to zeros\n",
    "    conf_matrix = np.zeros((num_classes, num_classes), dtype=int)\n",
    "    \n",
    "    # Populate the confusion matrix by counting the correct predictions\n",
    "    for true, pred in zip(true_labels, predicted_labels):\n",
    "        conf_matrix[true][pred] += 1\n",
    "    return conf_matrix"
   ]
  },
  {
   "cell_type": "code",
   "execution_count": 15,
   "id": "bc6aa0a3",
   "metadata": {},
   "outputs": [],
   "source": [
    "# Assuming y_validate is one-hot encoded, convert it to class labels\n",
    "y_validate_class = np.argmax(y_validate, axis=1)\n",
    "\n",
    "# Generate predictions for the validation set\n",
    "y_pred_validation = mlp.forward(X_validate_norm)\n",
    "\n",
    "# Convert predictions to class labels\n",
    "y_pred_validation_class = np.argmax(y_pred_validation, axis=1)\n"
   ]
  },
  {
   "cell_type": "code",
   "execution_count": 16,
   "id": "13eb7f1f",
   "metadata": {},
   "outputs": [],
   "source": [
    "#accuracy on validation set\n",
    "validation_accuracy= calculate_accuracy(y_validate_class, y_pred_validation_class)\n",
    "\n",
    "#confusion matrix for the validation set\n",
    "conf_matrix= create_confusion_matrix(y_validate_class, y_pred_validation_class, num_classes=2)\n"
   ]
  },
  {
   "cell_type": "code",
   "execution_count": 17,
   "id": "80830733",
   "metadata": {},
   "outputs": [
    {
     "data": {
      "text/plain": [
       "<matplotlib.legend.Legend at 0x2a54df84990>"
      ]
     },
     "execution_count": 17,
     "metadata": {},
     "output_type": "execute_result"
    },
    {
     "data": {
      "image/png": "[encoded data removed]",
      "text/plain": [
       "<Figure size 1400x500 with 1 Axes>"
      ]
     },
     "metadata": {},
     "output_type": "display_data"
    }
   ],
   "source": [
    "# Plot training and validation loss\n",
    "plt.figure(figsize=(14, 5))\n",
    "plt.subplot(1, 2, 1)\n",
    "plt.plot(training_losses, label='Training Loss')\n",
    "plt.plot(validation_losses, label='Validation Loss')\n",
    "plt.title('Training and Validation Loss')\n",
    "plt.xlabel('Epochs')\n",
    "plt.ylabel('Loss')\n",
    "plt.legend()"
   ]
  },
  {
   "cell_type": "code",
   "execution_count": 18,
   "id": "72b93dca",
   "metadata": {},
   "outputs": [
    {
     "data": {
      "image/png": "[encoded data removed]",
      "text/plain": [
       "<Figure size 640x480 with 1 Axes>"
      ]
     },
     "metadata": {},
     "output_type": "display_data"
    }
   ],
   "source": [
    "# Plot confusion matrix\n",
    "plt.subplot(1, 2, 2)\n",
    "sns.heatmap(conf_matrix, annot=True, fmt='d', cmap='Blues', cbar=False)\n",
    "plt.title('Confusion Matrix')\n",
    "plt.xlabel('Predicted Label')\n",
    "plt.ylabel('True Label')\n",
    "plt.tight_layout()\n",
    "plt.show()"
   ]
  },
  {
   "cell_type": "code",
   "execution_count": 19,
   "id": "b62b305a",
   "metadata": {},
   "outputs": [
    {
     "name": "stdout",
     "output_type": "stream",
     "text": [
      "The validation accuracy is : 97.5609756097561%\n"
     ]
    }
   ],
   "source": [
    "print(f'The validation accuracy is : {validation_accuracy*100}%')"
   ]
  },
  {
   "cell_type": "code",
   "execution_count": 20,
   "id": "c08aa58f",
   "metadata": {},
   "outputs": [
    {
     "data": {
      "text/plain": [
       "array([[40,  1],\n",
       "       [ 1, 40]])"
      ]
     },
     "execution_count": 20,
     "metadata": {},
     "output_type": "execute_result"
    }
   ],
   "source": [
    "conf_matrix"
   ]
  },
  {
   "cell_type": "code",
   "execution_count": null,
   "id": "2347e6de",
   "metadata": {},
   "outputs": [],
   "source": []
  },
  {
   "cell_type": "code",
   "execution_count": null,
   "id": "33773978",
   "metadata": {},
   "outputs": [],
   "source": []
  }
 ],
 "metadata": {
  "kernelspec": {
   "display_name": "Python 3 (ipykernel)",
   "language": "python",
   "name": "python3"
  },
  "language_info": {
   "codemirror_mode": {
    "name": "ipython",
    "version": 3
   },
   "file_extension": ".py",
   "mimetype": "text/x-python",
   "name": "python",
   "nbconvert_exporter": "python",
   "pygments_lexer": "ipython3",
   "version": "3.11.5"
  }
 },
 "nbformat": 4,
 "nbformat_minor": 5
}
